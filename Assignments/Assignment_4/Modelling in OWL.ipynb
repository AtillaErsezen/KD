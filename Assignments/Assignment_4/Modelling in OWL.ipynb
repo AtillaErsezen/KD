{
 "cells": [
  {
   "cell_type": "markdown",
   "metadata": {},
   "source": [
    "# Knowledge and Data: Practical Assignment 4 \n",
    "## Modelling in OWL "
   ]
  },
  {
   "cell_type": "markdown",
   "metadata": {},
   "source": [
    "- YOUR NAME: \n",
    "\n",
    "- YOUR VUNetID: \n",
    "\n",
    "*(If you do not provide your NAME and VUNetID we will not accept your submission.)*"
   ]
  },
  {
   "cell_type": "markdown",
   "metadata": {},
   "source": [
    "For this assignment you will be engineering and reasoning over your very own OWL ontology.\n",
    "\n",
    "You are free to choose the domain (subject) of the ontology you are going to build (e.g. on nutritional value, recipes, supermarkets, food safety, health, restaurants, planes, trains and automobiles, developing countries, modern slavery, political parties, refugees, you name it...). Just be creative and choose a domain we have not seen in class yet. \n",
    "\n",
    "We expect extensive answers for this assignment: give a full account of what you did, such that a peer would be able to reproduce your ontology. This means that you must explicitly state the new axioms and that we expect you to motivate your choices (usually 1-3 lines).\n",
    "\n",
    "Note that all notebooks will automatically be checked for plagiarism: while similar answers can be expected, it is not allowed to directly copy the solutions from fellow students or TAs, or from the examples discussed during the lectures. Similarly, sharing your solutions with your peers is not allowed.\n",
    "\n",
    "NB: the use of Python is not allowed for this assignment: if you add a new cell, make sure it is of the type *markdown* (see the pull-down menu at the top).\n",
    "\n",
    "**IMPORTANT: You will have to hand in your ontology (as ttl) together with the notebook**"
   ]
  },
  {
   "cell_type": "markdown",
   "metadata": {},
   "source": [
    "### Learning objectives"
   ]
  },
  {
   "cell_type": "markdown",
   "metadata": {},
   "source": [
    "At the end of this exercise you should be able to build and ontology and to reason over it: \n",
    "1. You will be able to engineer an OWL ontology\n",
    "2. You will be able to conceptualize a (small) domain\n",
    "3. You will be able use conditions and property characteristics\n",
    "4. You will be able to use a reasoner to infer implicit knowledge\n",
    "5. You will be able to work in Protégé\n"
   ]
  },
  {
   "cell_type": "markdown",
   "metadata": {},
   "source": [
    "### Preliminaries\n",
    "\n",
    "There are several tools which can be used to create and edit RDF and OWL files (in addition to your favourite text-based editor). For this assignment we urge you to use the open-source tool [Protégé](https://protege.stanford.edu), which is a stand-alone editor that is very much tailored towards OWL ontology editing.\n",
    "\n",
    "To install Protégé on your system, please take a look at the [installation instructions](https://protegeproject.github.io/protege/installation/).\n",
    " \n",
    "Protégé is a complex tool with many options, only few of which we will need for this assignment. There are various resources available to get you started:\n",
    "\n",
    "- Watch a short [Protégé Screencast Tutorial](https://vimeo.com/183829740) (created by Rinke Hoekstra)\n",
    "- Check out the [Practical Guide To Building OWL Ontologies Using Protégé 5](https://www.researchgate.net/publication/351037551_A_Practical_Guide_to_Building_OWL_Ontologies_Using_Protege_55_and_Plugins) that uses the [Pizza ontology](https://protege.stanford.edu/ontologies/pizza/pizza.owl) to describe how to create ontologies using Protégé.\n",
    "- Check the [Assignment 4 document](https://docs.google.com/document/d/1Dw2winjfr2TJq3r1q6ZRpud9Qn--tq4ioWDqiBdrrzI) containing Tips & Recommendations on how to create ontologies."
   ]
  },
  {
   "cell_type": "markdown",
   "metadata": {},
   "source": [
    "### Task 1 (10 Points) : Creating an empty ontology\n",
    "\n",
    "Create a new empty ontology in Protégé.\n",
    "\n",
    "Be sure to:\n",
    "- Choose your own unique namespace and prefix  (these do not have to exist)\n",
    "- Add metadata in the form of *rdfs:label*, *dc:creator* (http://purl.org/dc/elements/1.1/creator), and *dc:description* (http://purl.org/dc/elements/1.1/description) annotations.  \n",
    "  Use *dc:description* to describe the domain and target audience of your ontology.\n",
    "\n",
    "Write down the namespace, its prefix, and the metadata that you have added in the textfield below:"
   ]
  },
  {
   "cell_type": "markdown",
   "metadata": {},
   "source": [
    "Namespace: ...  \n",
    "Prefix: ...\n",
    "\n",
    "Metadata:\n",
    "..."
   ]
  },
  {
   "cell_type": "markdown",
   "metadata": {},
   "source": [
    "### Task 2a (10 Points) : Populating your ontology\n",
    "\n",
    "Populate your ontology such that it contains at least\n",
    "- six classes\n",
    "- four data properties\n",
    "- four object properties\n",
    "\n",
    "For **each** class, create **two** example instances:\n",
    "- assert one instance as a member of this class (i.e. using *rdf:type*).\n",
    "- leave the second instance without any type.\n",
    "\n",
    "Your ontology should now have at least 12 instances: six instances with a certain *rdf:type*, and six instances without any *rdf:type*.\n",
    "\n",
    "List and describe the classes and properties that you created in the textfield below, together with their instances. Don't forget to motivate your choices."
   ]
  },
  {
   "cell_type": "markdown",
   "metadata": {},
   "source": [
    "Class Name: ...  \n",
    "Description: ...  \n",
    "Instances:  \n",
    "- ...\n",
    "\n",
    "Class Name: ...  \n",
    "Description: ...  \n",
    "Instances:  \n",
    "- ...\n",
    "\n",
    "...\n",
    "\n",
    "Property Name: ...<br/>\n",
    "Description: ...<br/>\n",
    "Domain: ...<br/>\n",
    "Range: ...\n",
    "\n",
    "..."
   ]
  },
  {
   "cell_type": "markdown",
   "metadata": {},
   "source": [
    "### Task 2b (10 Points) : Asserting properties\n",
    " \n",
    "For *each* instance:\n",
    "- assert at least one datatype property (e.g. ex:instanceA *ex:hasFullName* \"Some Full Name\"). \n",
    "- assert at least one object property, relating instances to each other (e.g.  ex:instanceA *ex:attendsCourse* ex:instanceB) \n",
    "\n",
    "List and describe 4 statements from your ontology, containing 4 different object property assertions:"
   ]
  },
  {
   "cell_type": "markdown",
   "metadata": {},
   "source": [
    "Your answer here"
   ]
  },
  {
   "cell_type": "markdown",
   "metadata": {},
   "source": [
    "List and describe 4 statements from your ontology, containing 4 different data property assertions:"
   ]
  },
  {
   "cell_type": "markdown",
   "metadata": {},
   "source": [
    "Your answer here"
   ]
  },
  {
   "cell_type": "markdown",
   "metadata": {},
   "source": [
    "---\n",
    "### The reasoner\n",
    "\n",
    "The questions following this point make use of Protégé reasoning capabilities, which are available via plugins but which are disabled by default. Install (if necessary) and start the *Pellet* reasoner before you continue with the next question.\n",
    "\n",
    "Refer to page 15 of the [Protégé guide](https://www.researchgate.net/publication/351037551_A_Practical_Guide_to_Building_OWL_Ontologies_Using_Protege_55_and_Plugins) for instructions on how to install and run the reasoner. A version of this guide is also available on the GitHub page of the course.\n",
    "\n",
    "---"
   ]
  },
  {
   "cell_type": "markdown",
   "metadata": {},
   "source": [
    "### Task 3 (10 Points): Reasoning on a basic ontology\n",
    "\n",
    "All assertions that were addded up til now were explicit. Yet, it is certainly possible that your ontology also contains one or more *implicit* assertions, that have emerged from the interactions between the added explicit assertions. \n",
    "\n",
    "Run the reasoner on your yet-basic ontology and write down the inferences occurred (if any) below:"
   ]
  },
  {
   "cell_type": "markdown",
   "metadata": {},
   "source": [
    "*Your answer here*"
   ]
  },
  {
   "cell_type": "markdown",
   "metadata": {},
   "source": [
    "Write down the different steps of the reasoning process (ie, what happened when you ran the reasoner. Think in terms of _set theory_, _axioms_, and _inferencing_, amongst others)."
   ]
  },
  {
   "cell_type": "markdown",
   "metadata": {},
   "source": [
    "*Your answer here*"
   ]
  },
  {
   "cell_type": "markdown",
   "metadata": {},
   "source": [
    "### Task 4a (10 Points): Necessary and sufficient conditions \n",
    "\n",
    "Select two classes from your ontology.  \n",
    "For **both** classes:\n",
    "- add at least one *necessary* **and** one *necessary and sufficient* condition\n",
    "  (e.g. engineers are people who hold an engineering degree, and any person holding an engineering degree is an engineer)\n",
    "- infer class membership of *at least* one instance using each condition \n",
    "  \n",
    "List and describe the four (or more) conditions that you have added (i.e. axioms) in the textfield below. Do not forget to motivate your choices."
   ]
  },
  {
   "cell_type": "markdown",
   "metadata": {},
   "source": [
    "Your answer here"
   ]
  },
  {
   "cell_type": "markdown",
   "metadata": {},
   "source": [
    "### Task 4b (10 Points): Reasoning over conditions\n",
    "\n",
    "Run the reasoner once again (after having added the conditions).\n",
    "\n",
    "Write down and explain the resulting inferences below."
   ]
  },
  {
   "cell_type": "markdown",
   "metadata": {},
   "source": [
    "Your answer here"
   ]
  },
  {
   "cell_type": "markdown",
   "metadata": {},
   "source": [
    "### Task 5a (10 Points): Property characteristics\n",
    "\n",
    "Add at least **four** different OWL property characteristics.\n",
    "\n",
    "Examples are\n",
    "- transitivity\n",
    "- symmetricity\n",
    "- functionality\n",
    "- (ir)reflexivity\n",
    "- property chain\n",
    "- disjoint properties\n",
    "- etc\n",
    "\n",
    "All four different characteristics can be asserted on one property (or on four different properties).\n",
    "\n",
    "List and describe the four (or more) property characteristics you defined (i.e. axioms) in the textfield below. Do not forget to motivate your choices."
   ]
  },
  {
   "cell_type": "markdown",
   "metadata": {},
   "source": [
    "Your answser here"
   ]
  },
  {
   "cell_type": "markdown",
   "metadata": {},
   "source": [
    "### Task 5b (10 Points): Reasoning over properties\n",
    "\n",
    "Run the reasoner once again (after having added the properties).\n",
    "\n",
    "Write down and explain the resulting inferences below."
   ]
  },
  {
   "cell_type": "markdown",
   "metadata": {},
   "source": [
    "Your answer here"
   ]
  },
  {
   "cell_type": "markdown",
   "metadata": {},
   "source": [
    "### Task 6 (10 Points): Saving your ontology\n",
    "\n",
    "Go over your ontology to ensure that it is consistent and that it meets all requirements as asked through the various questions. Note that you can use the reasoner to check your ontology for consistency.\n",
    "\n",
    "Next, export/save your ontology to a file using Turtle as serialization format. Use *save as* to ensure that later modifications won't end up in this file. \n",
    "\n",
    "**Submit this file together with your notebook**"
   ]
  },
  {
   "cell_type": "markdown",
   "metadata": {},
   "source": [
    "### Task 7 (10 Points): An inconsist ontology\n",
    "\n",
    "Add a new axiom to your ontology in such a way that it becomes inconsistent. \n",
    "\n",
    "**IMPORTANT: do not submit this version**\n",
    "\n",
    "List and describe the axiom that you added. Motivate your choice and explain why the ontology became inconsistent."
   ]
  },
  {
   "cell_type": "markdown",
   "metadata": {},
   "source": [
    "Your answer here"
   ]
  },
  {
   "cell_type": "markdown",
   "metadata": {},
   "source": [
    "---\n",
    "\n",
    "## Submitting your answers\n",
    "\n",
    "To submit your answers for this assignment, create a zip-file containing both this notebook and your *consistent* ontology (saved during task 6). Name this zip-file **assignment_4_VUnetID.zip** (where VUnetID is of course to be replaced by your personal VUnetID, eg **rss220**), and submit it via Canvas."
   ]
  }
 ],
 "metadata": {
  "kernelspec": {
   "display_name": "Python 3 (ipykernel)",
   "language": "python",
   "name": "python3"
  },
  "language_info": {
   "codemirror_mode": {
    "name": "ipython",
    "version": 3
   },
   "file_extension": ".py",
   "mimetype": "text/x-python",
   "name": "python",
   "nbconvert_exporter": "python",
   "pygments_lexer": "ipython3",
   "version": "3.12.3"
  }
 },
 "nbformat": 4,
 "nbformat_minor": 4
}
